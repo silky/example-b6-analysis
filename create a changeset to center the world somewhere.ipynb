{
 "cells": [
  {
   "cell_type": "code",
   "execution_count": 1,
   "id": "8fdaf603-59ff-4fdc-9014-5b3433d057af",
   "metadata": {},
   "outputs": [],
   "source": [
    "import diagonal_b6 as b6\n",
    "\n",
    "w = b6.connect_insecure(\"0.0.0.0:8002\")"
   ]
  },
  {
   "cell_type": "markdown",
   "id": "7995712c-8297-46c2-b57e-487bf0b30790",
   "metadata": {},
   "source": [
    "### A simple example of using the changesets to center the UI at a certain point\n",
    "\n",
    "Note that this assumes you have, at least, an index containing `edinburgh` in the `./data` folder; perhaps obtained from PlanetOSM:\n",
    "\n",
    "\n",
    "```\n",
    "# Download the osm data somewhere\n",
    "docker run --rm -it -v $PWD:/download openmaptiles/openmaptiles-tools download-osm geofabrik scotland -- -d /download\n",
    "\n",
    "# Ingest it into an index\n",
    "b6-ingest-osm --input ../data/scotland-latest.osm.pbf --output data/scotland.index\n",
    "```"
   ]
  },
  {
   "cell_type": "code",
   "execution_count": 11,
   "id": "0c47fd3f-d76c-4eaa-8f2f-9e88fde19a70",
   "metadata": {},
   "outputs": [],
   "source": [
    "# The Edinburgh Castle; found via OSM.\n",
    "# https://www.openstreetmap.org/way/4301292#map=18/55.948676/-3.200401\n",
    "# Note: This has to be a node ( https://www.openstreetmap.org/node/26005891 )\n",
    "castle = b6.osm_node_id(26005891)"
   ]
  },
  {
   "cell_type": "code",
   "execution_count": 3,
   "id": "31fbaee0-ec10-4c8c-aece-edf11cc7071f",
   "metadata": {},
   "outputs": [],
   "source": [
    "root = b6.FeatureID(b6.FEATURE_TYPE_COLLECTION, \"diagonal.works/edinburgh\", 0)"
   ]
  },
  {
   "cell_type": "code",
   "execution_count": 4,
   "id": "9a1ff48b-a339-4753-a127-cc6f1684aec0",
   "metadata": {},
   "outputs": [
    {
     "data": {
      "text/plain": [
       "<diagonal_b6.features.PointFeature at 0x7f027c7b9290>"
      ]
     },
     "execution_count": 4,
     "metadata": {},
     "output_type": "execute_result"
    }
   ],
   "source": [
    "w(b6.find_feature(castle))"
   ]
  },
  {
   "cell_type": "code",
   "execution_count": 5,
   "id": "41c106e3-afce-4b66-b66a-d9ceb80340b8",
   "metadata": {},
   "outputs": [],
   "source": [
    "center    = b6.FeatureID(b6.FEATURE_TYPE_POINT, \"diagonal.works/edinburgh/centroid\", 0)\n",
    "new_point = b6.add_point(b6.ll(55.95348352921928, -3.1724975130166477), center, {})"
   ]
  },
  {
   "cell_type": "code",
   "execution_count": 6,
   "id": "55d21c35-2892-4706-9216-ac2e8cf39fc1",
   "metadata": {},
   "outputs": [],
   "source": [
    "new_collection = b6.add_collection(root, {}, b6.collection(\n",
    "    # Option 1: Center at some lat/long we pick.\n",
    "    # b6.pair(\"centroid\", center)\n",
    "\n",
    "    # Option 2: Center at some NodeID we find from OSM.\n",
    "    b6.pair(\"centroid\", castle)\n",
    "))\n",
    "\n",
    "changes = b6.merge_changes([\n",
    "    new_point,\n",
    "    new_collection\n",
    "])"
   ]
  },
  {
   "cell_type": "code",
   "execution_count": 7,
   "id": "f9941dc3-c7d9-4b51-9b52-9620ab642745",
   "metadata": {},
   "outputs": [
    {
     "data": {
      "text/plain": [
       "'data/edinburgh.yaml'"
      ]
     },
     "execution_count": 7,
     "metadata": {},
     "output_type": "execute_result"
    }
   ],
   "source": [
    "w(b6.with_change(changes, lambda: b6.changes_to_file(\"data/edinburgh.yaml\")))"
   ]
  },
  {
   "cell_type": "markdown",
   "id": "2c41d2a0-2102-42a1-9240-8beedb61a1f1",
   "metadata": {},
   "source": [
    "Now you can restart the world and open the UI like so:"
   ]
  },
  {
   "cell_type": "code",
   "execution_count": 8,
   "id": "344f2ba6-3c0a-4ee8-99e9-96a2ace1038e",
   "metadata": {},
   "outputs": [
    {
     "name": "stdout",
     "output_type": "stream",
     "text": [
      "http://localhost:8001/?r=/collection/diagonal.works/edinburgh/0\n"
     ]
    }
   ],
   "source": [
    "print(f\"http://localhost:8001/?r={root}\")"
   ]
  },
  {
   "cell_type": "code",
   "execution_count": null,
   "id": "2b67f733-b61b-4073-9ad6-20288005d93e",
   "metadata": {},
   "outputs": [],
   "source": []
  }
 ],
 "metadata": {
  "kernelspec": {
   "display_name": "Python 3 (ipykernel)",
   "language": "python",
   "name": "python3"
  },
  "language_info": {
   "codemirror_mode": {
    "name": "ipython",
    "version": 3
   },
   "file_extension": ".py",
   "mimetype": "text/x-python",
   "name": "python",
   "nbconvert_exporter": "python",
   "pygments_lexer": "ipython3",
   "version": "3.11.9"
  }
 },
 "nbformat": 4,
 "nbformat_minor": 5
}
