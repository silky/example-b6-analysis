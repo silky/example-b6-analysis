{
 "cells": [
  {
   "cell_type": "markdown",
   "id": "2febf8a6-b08c-477f-8f6f-8dac77382601",
   "metadata": {},
   "source": [
    "The simplest b6 demo."
   ]
  },
  {
   "cell_type": "code",
   "execution_count": 1,
   "id": "3bdbd753-891f-4f30-a057-ea23e2542639",
   "metadata": {},
   "outputs": [],
   "source": [
    "import diagonal_b6 as b6"
   ]
  },
  {
   "cell_type": "markdown",
   "id": "75ab21d5-ee0f-4eee-a06b-ae414ce44aea",
   "metadata": {},
   "source": [
    "Run a b6 world like:\n",
    "\n",
    "```shell\n",
    "docker run -p 8001:8001 -p 8002:8002 -v ./data:/data b6 -world /data/camden.index\n",
    "```\n",
    "\n",
    "from a directory where you also have `./data/camden.index` available.\n",
    "\n",
    "You can build the `b6` docker image like:\n",
    "\n",
    "```shell\n",
    "nix build github:silky/diagonal-b6/add-nix#b6-image\n",
    "./result | docker load\n",
    "```"
   ]
  },
  {
   "cell_type": "code",
   "execution_count": 2,
   "id": "f5fb873c-9c18-48e0-bbab-e65f24077717",
   "metadata": {},
   "outputs": [],
   "source": [
    "world = b6.connect_insecure(\"0.0.0.0:8002\")"
   ]
  },
  {
   "cell_type": "code",
   "execution_count": 3,
   "id": "3938c948-2011-4185-941a-365d1bff3993",
   "metadata": {},
   "outputs": [
    {
     "data": {
      "text/plain": [
       "20924"
      ]
     },
     "execution_count": 3,
     "metadata": {},
     "output_type": "execute_result"
    }
   ],
   "source": [
    "world(b6.find_areas(b6.keyed(\"#building\")).count())"
   ]
  },
  {
   "cell_type": "code",
   "execution_count": null,
   "id": "5fb4302d-b7e5-4d55-a2a7-a9b2e5249bfb",
   "metadata": {},
   "outputs": [],
   "source": []
  }
 ],
 "metadata": {
  "kernelspec": {
   "display_name": "Python 3 (ipykernel)",
   "language": "python",
   "name": "python3"
  },
  "language_info": {
   "codemirror_mode": {
    "name": "ipython",
    "version": 3
   },
   "file_extension": ".py",
   "mimetype": "text/x-python",
   "name": "python",
   "nbconvert_exporter": "python",
   "pygments_lexer": "ipython3",
   "version": "3.11.9"
  }
 },
 "nbformat": 4,
 "nbformat_minor": 5
}
