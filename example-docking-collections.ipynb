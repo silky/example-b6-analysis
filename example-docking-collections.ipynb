{
 "cells": [
  {
   "cell_type": "markdown",
   "id": "3230d04b-3377-47e5-9e73-24a996bf958e",
   "metadata": {},
   "source": [
    "Example of trying to get something docked and clickable and coloured differently.\n",
    "\n",
    "The problem at present is that we can't find the tag that we apparently add."
   ]
  },
  {
   "cell_type": "code",
   "execution_count": 1,
   "id": "b2c0d34a-5ef5-45f3-b73b-5760cb58272b",
   "metadata": {},
   "outputs": [],
   "source": [
    "import diagonal_b6 as b6\n",
    "\n",
    "w = b6.connect_insecure(\"0.0.0.0:8002\")"
   ]
  },
  {
   "cell_type": "code",
   "execution_count": 2,
   "id": "c87b73d6-bc9b-46e3-a034-82444f2615d9",
   "metadata": {},
   "outputs": [],
   "source": [
    "name = \"diagonal.works/edinburgh/dock-example\""
   ]
  },
  {
   "cell_type": "code",
   "execution_count": 3,
   "id": "82b5ad01-b0a7-4f15-bd75-00b40fa7ce58",
   "metadata": {},
   "outputs": [],
   "source": [
    "root       = b6.FeatureID(b6.FEATURE_TYPE_COLLECTION, name, 0)\n",
    "collection = b6.FeatureID(b6.FEATURE_TYPE_COLLECTION, name, 1)"
   ]
  },
  {
   "cell_type": "code",
   "execution_count": 4,
   "id": "b3bceba1-0e9b-4991-b430-e928e45649c4",
   "metadata": {},
   "outputs": [],
   "source": [
    "castle     = b6.osm_node_id(26005891)\n",
    "\n",
    "# Actually, this is the \"Queen Ann\" building:\n",
    "# https://www.openstreetmap.org/way/467503845\n",
    "castle_way = b6.osm_way_id(467503845)\n",
    "\n",
    "special_colour = \"#f9047f\""
   ]
  },
  {
   "cell_type": "code",
   "execution_count": 5,
   "id": "f90ea904-3a16-45b7-8288-fc1019b6f400",
   "metadata": {},
   "outputs": [],
   "source": [
    "add_root = b6.add_collection(root, {}, b6.collection(\n",
    "    b6.pair(\"centroid\", castle),\n",
    "    b6.pair(\"docked\", collection),\n",
    "))\n",
    "\n",
    "add_collection = b6.add_collection(collection, {}, b6.collection(\n",
    "    b6.pair( castle, castle_way ),\n",
    "))\n",
    "\n",
    "changes = b6.merge_changes([\n",
    "    add_root,\n",
    "    add_collection,\n",
    "    b6.add_tag(castle_way, b6.tag(\"b6:colour\", special_colour)),\n",
    "    # Try add_taggs instead.\n",
    "    # b6.add_tags( b6.collection( b6.pair(castle_way, b6.tag(\"b6:colour\", special_colour) ))),\n",
    "])"
   ]
  },
  {
   "cell_type": "code",
   "execution_count": 6,
   "id": "a1b729c1-8281-4511-8ae4-a2e2c4edcbf3",
   "metadata": {},
   "outputs": [
    {
     "data": {
      "text/plain": [
       "[(/path/openstreetmap.org/way/467503845,\n",
       "  /path/openstreetmap.org/way/467503845)]"
      ]
     },
     "execution_count": 6,
     "metadata": {},
     "output_type": "execute_result"
    }
   ],
   "source": [
    "w(b6.add_tag(castle_way, b6.tag(\"b6:colour\", special_colour)))"
   ]
  },
  {
   "cell_type": "code",
   "execution_count": 7,
   "id": "6a640015-6380-44a7-b9b5-cf6611c24e2b",
   "metadata": {},
   "outputs": [],
   "source": [
    "w(b6.add_world_with_change(root, changes));\n",
    "# w(b6.with_change(changes, lambda: b6.changes_to_file(\"data/some-other-changes.yaml\")));"
   ]
  },
  {
   "cell_type": "code",
   "execution_count": 8,
   "id": "d5dc81f1-581e-4ff2-bb02-d5416af928ca",
   "metadata": {},
   "outputs": [
    {
     "data": {
      "text/plain": [
       "[]"
      ]
     },
     "execution_count": 8,
     "metadata": {},
     "output_type": "execute_result"
    }
   ],
   "source": [
    "w(b6.find(b6.tagged(\"b6:colour\", special_colour)))"
   ]
  },
  {
   "cell_type": "markdown",
   "id": "11deb587-171d-40d5-9385-c6032723d3eb",
   "metadata": {},
   "source": [
    "Question: Why doesn't this return the feature?"
   ]
  },
  {
   "cell_type": "code",
   "execution_count": 9,
   "id": "30216c85-ba5a-446e-b269-3862496b2122",
   "metadata": {},
   "outputs": [
    {
     "name": "stdout",
     "output_type": "stream",
     "text": [
      "http://localhost:8001/?r=/collection/diagonal.works/edinburgh/dock-example/0\n"
     ]
    }
   ],
   "source": [
    "print(f\"http://localhost:8001/?r={root}\")"
   ]
  },
  {
   "cell_type": "code",
   "execution_count": null,
   "id": "d6a182b0-f9cb-4e6f-a3a2-83fcc63d3aef",
   "metadata": {},
   "outputs": [],
   "source": []
  }
 ],
 "metadata": {
  "kernelspec": {
   "display_name": "Python 3 (ipykernel)",
   "language": "python",
   "name": "python3"
  },
  "language_info": {
   "codemirror_mode": {
    "name": "ipython",
    "version": 3
   },
   "file_extension": ".py",
   "mimetype": "text/x-python",
   "name": "python",
   "nbconvert_exporter": "python",
   "pygments_lexer": "ipython3",
   "version": "3.11.9"
  }
 },
 "nbformat": 4,
 "nbformat_minor": 5
}
